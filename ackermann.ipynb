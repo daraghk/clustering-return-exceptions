{
 "cells": [
  {
   "cell_type": "code",
   "execution_count": 1,
   "metadata": {},
   "outputs": [],
   "source": [
    "import numpy as np\n",
    "import matplotlib.pyplot as plt\n",
    "from sklearn.cluster import KMeans"
   ]
  },
  {
   "cell_type": "markdown",
   "metadata": {},
   "source": [
    "### Generating Random Training Data"
   ]
  },
  {
   "cell_type": "code",
   "execution_count": 2,
   "metadata": {},
   "outputs": [
    {
     "name": "stdout",
     "output_type": "stream",
     "text": [
      "[(906, 717), (44, 485), (842, 419), (831, 284), (425, 923), (806, 311), (148, 820), (138, 355), (374, 975), (283, 697), (669, 360), (393, 584), (536, 290), (866, 847), (627, 172), (293, 491), (419, 331), (374, 107), (520, 812), (286, 884), (22, 477), (805, 147), (987, 838), (82, 610), (433, 811), (676, 943), (993, 311), (300, 728), (154, 723), (745, 816), (732, 692), (352, 286), (975, 94), (90, 761), (633, 992), (439, 849), (921, 495), (157, 105), (362, 668), (744, 873), (640, 456), (384, 640), (993, 234), (15, 941), (548, 564), (623, 309), (297, 875), (923, 958), (760, 122), (884, 93), (794, 957), (710, 37), (769, 914), (11, 558), (81, 293), (699, 819), (291, 491), (574, 742), (105, 328), (114, 717), (294, 51), (456, 894), (414, 748), (184, 230), (267, 908), (610, 267), (868, 614), (234, 757), (557, 512), (129, 305), (606, 711), (513, 289), (431, 407), (167, 25), (956, 595), (97, 350), (90, 477), (689, 57), (568, 220), (315, 688), (200, 170), (70, 482), (751, 103), (827, 653), (99, 145), (711, 317), (625, 639), (916, 374), (713, 396), (881, 376), (686, 851), (45, 977), (796, 720), (983, 699), (151, 27), (329, 293), (780, 878), (501, 566), (245, 889), (0, 460), (52, 279), (922, 120), (818, 526), (315, 710), (928, 413), (657, 981), (873, 745), (371, 144), (903, 324), (8, 168), (232, 19), (214, 49), (740, 259), (955, 459), (186, 962), (911, 34), (219, 363), (283, 598), (970, 497), (437, 294), (774, 548), (792, 223), (696, 697), (699, 666), (543, 589), (898, 369), (994, 890), (710, 694), (745, 252), (805, 683), (392, 796), (706, 321), (583, 441), (485, 782), (654, 631), (870, 712), (210, 875), (985, 483), (675, 152), (563, 860), (537, 409), (118, 849), (603, 542), (48, 440), (254, 824), (896, 645), (615, 64), (684, 905), (242, 38), (853, 203), (319, 27), (91, 623), (856, 895), (988, 15), (475, 686), (174, 852), (178, 360), (605, 890), (146, 339), (870, 793), (268, 488), (971, 74), (724, 292), (311, 672), (901, 181), (289, 674), (365, 247), (888, 461), (581, 157), (325, 106), (69, 458), (88, 430), (512, 834), (312, 408), (313, 903), (597, 647), (289, 988), (513, 811), (325, 864), (390, 710), (668, 864), (212, 288), (859, 180), (32, 808), (229, 159), (990, 993), (795, 883), (144, 79), (635, 884), (438, 235), (809, 608), (514, 629), (626, 719), (577, 557), (631, 830), (670, 319), (713, 525), (743, 104), (932, 800), (350, 231), (295, 356), (609, 939), (9, 487), (999, 409), (438, 996), (615, 439), (688, 746), (647, 375), (100, 861), (454, 78), (515, 317), (811, 670), (694, 278), (60, 384), (127, 937), (840, 529), (67, 190), (769, 532), (647, 510), (371, 940), (106, 620), (574, 771), (248, 7), (769, 735), (551, 368), (580, 40), (518, 12), (762, 675), (369, 729), (784, 6), (575, 262), (339, 989), (618, 279), (98, 856), (358, 789), (368, 507), (144, 975), (410, 652), (119, 107), (547, 265), (404, 770), (772, 959), (738, 194), (522, 728), (845, 440), (851, 30), (973, 767), (160, 547), (91, 227), (498, 145), (418, 80), (950, 113), (511, 228), (495, 340), (320, 141), (535, 996), (785, 402), (740, 96), (482, 521), (169, 252), (554, 241), (339, 991), (972, 227), (454, 384), (157, 363), (978, 543), (807, 921), (13, 727), (37, 226), (55, 482), (845, 657), (546, 665), (598, 21), (499, 652), (392, 692), (126, 592), (824, 481), (633, 204), (586, 662), (119, 235), (747, 920), (911, 246), (135, 660), (882, 81), (909, 577), (352, 816), (19, 325), (158, 480), (851, 431), (200, 738), (807, 635), (674, 799), (3, 163), (836, 50), (23, 334), (465, 267), (589, 664), (215, 556), (485, 498), (999, 766), (285, 320), (956, 180), (10, 364), (40, 501), (208, 28), (254, 291), (739, 865), (257, 629), (91, 689), (596, 923), (641, 993), (582, 403), (536, 906), (127, 330), (465, 3), (584, 819), (921, 75), (857, 223), (862, 642), (685, 388), (96, 654), (874, 2), (869, 797), (204, 942), (484, 240), (170, 91), (225, 85), (669, 380), (313, 517), (401, 931), (983, 996), (661, 291), (582, 507), (255, 400), (126, 912), (60, 972), (235, 250), (17, 50), (380, 2), (444, 542), (494, 760), (191, 917), (359, 479), (660, 981), (952, 372), (679, 451), (311, 710), (292, 505), (456, 94), (47, 598), (918, 684), (642, 246), (957, 123), (195, 931), (780, 665), (122, 549), (385, 989), (844, 339), (208, 811), (613, 931), (240, 167), (96, 529), (825, 985), (268, 796), (367, 201), (361, 322), (929, 811), (253, 1), (467, 105), (726, 998), (974, 829), (660, 884), (321, 196), (590, 884), (933, 956), (174, 807), (951, 312), (683, 761), (506, 277), (811, 650), (704, 369), (600, 536), (447, 470), (383, 884), (371, 96), (345, 376), (465, 302), (932, 137), (179, 550), (62, 962), (653, 206), (112, 144), (53, 194), (236, 630), (986, 754), (676, 465), (373, 441), (174, 965), (863, 705), (329, 564), (591, 97), (445, 343), (101, 315), (249, 384), (619, 913), (227, 248), (213, 404), (61, 536), (12, 187), (586, 864), (11, 406), (792, 22), (487, 522), (397, 503), (476, 487), (759, 28), (407, 198), (61, 910), (855, 777), (959, 69), (634, 443), (226, 864), (302, 662), (776, 40), (813, 301), (652, 404), (660, 978), (290, 796), (633, 430), (894, 132), (430, 609), (848, 533), (683, 112), (594, 315), (650, 991), (587, 372), (361, 984), (483, 734), (882, 129), (680, 520), (218, 474), (558, 54), (647, 819), (514, 115), (597, 213), (763, 535), (662, 797), (384, 201), (481, 351), (828, 533), (220, 565), (971, 240), (257, 548), (808, 383), (147, 91), (184, 455), (955, 489), (715, 169), (805, 288), (135, 365), (340, 461), (608, 943), (906, 39), (71, 70), (840, 939), (384, 536), (242, 715), (185, 505), (98, 768), (421, 727), (903, 229), (50, 227), (833, 850), (763, 508), (125, 410), (650, 600), (223, 942), (35, 774), (333, 573), (277, 488), (683, 407), (803, 76), (701, 839), (105, 485), (461, 585), (9, 902), (378, 34), (623, 256), (407, 855), (256, 654), (784, 360), (282, 777), (543, 215), (327, 969), (287, 30), (366, 732), (436, 888), (324, 606), (223, 295), (157, 490), (853, 685), (105, 822), (699, 497), (136, 680), (824, 598), (934, 305), (676, 782), (398, 508), (387, 672), (722, 55), (263, 139), (310, 364), (913, 422), (937, 154), (194, 458), (387, 354), (437, 718), (607, 720), (275, 189), (757, 711), (728, 864), (407, 99), (312, 353), (811, 637), (627, 302), (239, 662), (245, 439), (602, 806), (76, 7), (678, 501), (231, 868), (632, 115), (24, 955), (798, 171), (408, 719), (566, 801), (880, 461), (363, 467), (466, 684), (955, 16), (282, 169), (263, 165), (347, 414), (98, 970), (143, 846), (77, 108), (571, 10), (545, 994), (308, 821), (918, 430), (981, 677), (96, 525), (932, 132), (85, 390), (155, 730), (100, 482), (21, 254), (463, 28), (84, 628), (962, 907), (287, 388), (826, 869), (924, 409), (117, 11), (888, 979), (409, 268), (865, 238), (22, 822), (675, 167), (466, 997), (615, 145), (632, 260), (386, 308), (163, 241), (612, 417), (734, 302), (136, 23), (853, 478), (294, 874), (740, 297), (836, 877), (772, 253), (741, 449), (971, 287), (303, 994), (861, 518), (900, 988), (247, 242), (613, 896), (879, 897), (354, 194), (690, 963), (59, 98), (334, 515), (782, 845), (988, 133), (81, 205), (594, 158), (496, 859), (419, 74), (382, 407), (218, 787), (166, 218), (951, 387), (705, 196), (62, 317), (595, 969), (470, 966), (975, 427), (670, 949), (250, 682), (420, 995), (318, 448), (749, 29), (206, 332), (499, 766), (196, 529), (765, 446), (303, 181), (42, 530), (852, 270), (184, 313), (172, 167), (819, 771), (259, 765), (481, 111), (814, 425), (311, 93), (21, 92), (463, 506), (335, 794), (639, 974), (104, 111), (237, 55), (278, 149), (997, 696), (924, 801), (412, 9), (889, 516), (80, 736), (555, 748), (303, 14), (990, 779), (191, 197), (998, 556), (300, 574), (942, 379), (89, 19), (399, 232), (766, 389), (100, 428), (538, 740), (759, 67), (714, 328), (585, 761), (524, 504), (215, 167), (46, 397), (38, 850), (595, 537), (814, 720), (693, 20), (118, 859), (342, 925), (101, 124), (269, 802), (78, 631), (895, 573), (446, 4), (71, 50), (639, 437), (140, 161), (520, 510), (867, 39), (658, 190), (441, 214), (590, 983), (332, 914), (210, 837), (199, 627), (206, 444), (345, 563), (912, 699), (664, 970), (357, 43), (171, 804), (319, 804), (964, 979), (728, 264), (739, 775), (647, 858), (84, 512), (308, 228), (340, 30), (535, 454), (475, 806), (958, 426), (446, 863), (257, 405), (888, 742), (595, 617), (250, 197), (945, 491), (21, 864), (546, 854), (495, 996), (691, 519), (157, 797), (627, 506), (440, 313), (238, 925), (170, 969), (556, 147), (960, 117), (605, 647), (96, 114), (34, 23), (606, 503), (136, 767), (930, 854), (300, 84), (172, 402), (794, 204), (367, 375), (860, 212), (123, 111), (828, 835), (281, 811), (150, 461), (326, 498), (228, 862), (122, 901), (862, 136), (448, 815), (379, 9), (602, 553), (782, 624), (491, 943), (350, 498), (455, 996), (491, 715), (224, 542), (90, 572), (638, 285), (770, 470), (223, 198), (332, 136), (912, 684), (328, 683), (882, 819), (353, 884), (173, 113), (102, 680), (555, 155), (370, 919), (58, 981), (95, 505), (625, 659), (560, 468), (32, 487), (464, 726), (349, 58), (69, 128), (953, 460), (543, 508), (252, 647), (275, 743), (620, 177), (417, 515), (456, 765), (688, 676), (134, 907), (278, 529), (627, 686), (798, 547), (769, 475), (756, 678), (548, 985), (85, 672), (142, 95), (183, 536), (717, 501), (950, 972), (139, 858), (305, 152), (506, 439), (892, 220), (800, 969), (300, 410), (276, 580), (607, 527), (270, 427), (573, 203), (487, 506), (627, 342), (78, 581), (564, 301), (303, 379), (307, 103), (310, 338), (999, 609), (414, 442), (739, 611), (632, 845), (526, 510), (719, 945), (179, 540), (846, 46), (429, 294), (984, 101), (827, 859), (933, 802), (701, 472), (244, 774), (935, 13), (780, 634), (520, 247), (937, 687), (659, 835), (643, 526), (269, 424), (811, 842), (590, 89), (239, 956), (136, 643), (390, 418), (463, 489), (956, 616), (991, 45), (948, 246), (896, 880), (676, 29), (47, 353), (603, 881), (397, 326), (701, 539), (19, 652), (826, 711), (349, 127), (492, 646), (959, 574), (365, 14), (715, 91), (353, 403), (415, 679), (307, 1000), (757, 774), (16, 708), (601, 322), (197, 262), (289, 414), (199, 327), (121, 283), (448, 317), (286, 227), (5, 416), (160, 277), (869, 321), (878, 327), (848, 920), (426, 748), (353, 218), (472, 511), (773, 720), (174, 641), (813, 119), (303, 949), (584, 378), (675, 406), (224, 113), (960, 176), (651, 798), (967, 571), (101, 618), (696, 315), (838, 676), (186, 502), (477, 65), (42, 623), (206, 170), (993, 554), (86, 154), (161, 459), (896, 129), (919, 907), (642, 709), (256, 529), (413, 192), (679, 988), (13, 219), (863, 139), (843, 343), (219, 370), (686, 669), (264, 176), (974, 59), (781, 708), (914, 338), (221, 195), (536, 780), (740, 924), (892, 959), (74, 593), (635, 425), (442, 587), (737, 592), (291, 460), (714, 799), (739, 656), (276, 489), (304, 742), (741, 358), (89, 530), (313, 74), (239, 733), (104, 545), (745, 827), (570, 348), (704, 446), (609, 955), (518, 58), (476, 357), (423, 693), (328, 856), (493, 132), (649, 800), (327, 43), (317, 157), (880, 91), (13, 52), (171, 495), (860, 658), (798, 401), (254, 785), (991, 651), (261, 665), (632, 104), (777, 319), (398, 879), (918, 844), (845, 956), (563, 884), (538, 257), (960, 838), (247, 350), (117, 889), (771, 271), (544, 772), (713, 25), (540, 881), (457, 449), (78, 364), (781, 281), (697, 956), (885, 252), (354, 965), (908, 713), (524, 293), (695, 543), (133, 189), (918, 706), (191, 828), (761, 651), (766, 483), (268, 366), (345, 333), (560, 906), (333, 13), (455, 234), (989, 861), (248, 770), (416, 330), (239, 877), (767, 860), (14, 600), (445, 136), (431, 338), (402, 47), (91, 698), (134, 918), (273, 449), (939, 413), (962, 284), (337, 440), (611, 224), (327, 451), (938, 427), (617, 5), (409, 892), (359, 331), (472, 299), (897, 785), (947, 729), (662, 656), (28, 508), (423, 69), (744, 377), (659, 947), (531, 715), (929, 56)]\n"
     ]
    }
   ],
   "source": [
    "# Create the initial set of random inputs\n",
    "import random\n",
    "\n",
    "number_training_inputs = 1000\n",
    "tuple_length = 2\n",
    "training_inputs = []\n",
    "int_max = 2_147_483_648 * 2\n",
    "\n",
    "ackermann_data_bounds = [0, 1000]\n",
    "\n",
    "def produce_random_int_tuples(tuple_length, number_random_tuples, value_bounds):\n",
    "    random_tuples = []\n",
    "    for i in range(number_random_tuples):\n",
    "        random_tuple = []\n",
    "        for j in range(tuple_length):\n",
    "           random_value = random.randint(value_bounds[0], value_bounds[1])\n",
    "           random_tuple.append(random_value)\n",
    "        random_tuples.append(tuple(random_tuple))\n",
    "    return random_tuples\n",
    "    \n",
    "training_inputs = produce_random_int_tuples(tuple_length=tuple_length, number_random_tuples=number_training_inputs, value_bounds=ackermann_data_bounds)\n",
    "print(training_inputs)"
   ]
  },
  {
   "cell_type": "markdown",
   "metadata": {},
   "source": [
    "##### Ackermann Function and Execution Code"
   ]
  },
  {
   "cell_type": "code",
   "execution_count": 3,
   "metadata": {},
   "outputs": [],
   "source": [
    "def ackermann(m: int, n: int) -> int:\n",
    "    r = 0\n",
    "    x = 0\n",
    "    \n",
    "    if m == 0:\n",
    "        r = n + 1\n",
    "    elif m > 0 and n == 0:\n",
    "        r = ackermann(m - 1, 1)\n",
    "    else:\n",
    "        x = ackermann(m, n - 1)\n",
    "        r = ackermann(m - 1, x)\n",
    "    \n",
    "    return r\n",
    "\n",
    "# Execute the ackermann function with the random pair inputs generated\n",
    "def execute_ackermann(random_inputs):\n",
    "    inputs_that_return = []\n",
    "    inputs_that_throw_exceptions = []\n",
    "\n",
    "    for pair in random_inputs:\n",
    "        result = None\n",
    "        m = pair[0]\n",
    "        n = pair[1]\n",
    "        try:\n",
    "            result = ackermann(m, n)\n",
    "        except:\n",
    "            result = None\n",
    "    \n",
    "        if result is not None:\n",
    "            inputs_that_return.append(pair)\n",
    "        else:\n",
    "            inputs_that_throw_exceptions.append(pair)\n",
    "\n",
    "    return inputs_that_return, inputs_that_throw_exceptions"
   ]
  },
  {
   "cell_type": "code",
   "execution_count": 4,
   "metadata": {},
   "outputs": [
    {
     "name": "stdout",
     "output_type": "stream",
     "text": [
      "1\n",
      "999\n"
     ]
    }
   ],
   "source": [
    "# Partition the training data\n",
    "training_labels = execute_ackermann(random_inputs=training_inputs)\n",
    "training_inputs_that_return = training_labels[0]\n",
    "training_inputs_that_throw_exceptions = training_labels[1]\n",
    "print(len(training_inputs_that_return))\n",
    "print(len(training_inputs_that_throw_exceptions))"
   ]
  },
  {
   "cell_type": "code",
   "execution_count": 5,
   "metadata": {},
   "outputs": [],
   "source": [
    "K = 1"
   ]
  },
  {
   "cell_type": "code",
   "execution_count": 6,
   "metadata": {},
   "outputs": [
    {
     "name": "stdout",
     "output_type": "stream",
     "text": [
      "[[  0. 460.]]\n",
      "1\n"
     ]
    }
   ],
   "source": [
    "# Cluster the good inputs\n",
    "return_inputs_clusters = KMeans(n_clusters=K)\n",
    "return_inputs_clusters.fit(training_inputs_that_return)\n",
    "centroids_of_return_clusters = return_inputs_clusters.cluster_centers_\n",
    "print(centroids_of_return_clusters)\n",
    "print(len(return_inputs_clusters.labels_))"
   ]
  },
  {
   "cell_type": "code",
   "execution_count": 7,
   "metadata": {},
   "outputs": [
    {
     "name": "stdout",
     "output_type": "stream",
     "text": [
      "[[498.89489489 503.05105105]]\n",
      "999\n"
     ]
    }
   ],
   "source": [
    "# Cluster the bad inputs\n",
    "exception_inputs_clusters = KMeans(n_clusters=K)\n",
    "exception_inputs_clusters.fit(training_inputs_that_throw_exceptions)\n",
    "centroids_of_exception_clusters = exception_inputs_clusters.cluster_centers_\n",
    "print(centroids_of_exception_clusters)\n",
    "print(len(exception_inputs_clusters.labels_))"
   ]
  },
  {
   "cell_type": "markdown",
   "metadata": {},
   "source": [
    "### Plotting the Training Inputs that result in Returns"
   ]
  },
  {
   "cell_type": "code",
   "execution_count": 8,
   "metadata": {},
   "outputs": [
    {
     "data": {
      "image/png": "[encoded data removed]",
      "text/plain": [
       "<Figure size 432x288 with 1 Axes>"
      ]
     },
     "metadata": {
      "needs_background": "light"
     },
     "output_type": "display_data"
    }
   ],
   "source": [
    "x_values_return = [x for x, y in training_inputs_that_return]\n",
    "y_values_return = [y for x, y in training_inputs_that_return]\n",
    "plt.scatter(x_values_return, y_values_return, c=return_inputs_clusters.labels_)\n",
    "\n",
    "x_values_exception = [x for x, y in training_inputs_that_throw_exceptions]\n",
    "y_values_exception = [y for x, y in training_inputs_that_throw_exceptions]\n",
    "# plt.scatter(x_values_exception, y_values_exception, c=exception_inputs_clusters.labels_)"
   ]
  },
  {
   "cell_type": "markdown",
   "metadata": {},
   "source": [
    "### Test the Return / Exception Classification on new Test Data"
   ]
  },
  {
   "cell_type": "code",
   "execution_count": 9,
   "metadata": {},
   "outputs": [
    {
     "name": "stdout",
     "output_type": "stream",
     "text": [
      "1000\n",
      "997\n",
      "[(1, 434), (0, 1000), (0, 432), (0, 780), (2, 671), (1, 832), (0, 435)]\n"
     ]
    }
   ],
   "source": [
    "# Generate new random triples\n",
    "test_inputs = produce_random_int_tuples(tuple_length=tuple_length, number_random_tuples=number_training_inputs, value_bounds=ackermann_data_bounds)\n",
    "\n",
    "print(len(test_inputs))\n",
    "# Ensure there are no common elements between the training and test data\n",
    "test_inputs = list(set(test_inputs) - set(training_inputs))\n",
    "print(len(test_inputs))\n",
    "\n",
    "# Obtain the ground truth test data\n",
    "ground_truths = execute_ackermann(test_inputs)\n",
    "ground_truth_returns = ground_truths[0]\n",
    "ground_truth_exceptions = ground_truths[1]\n",
    "print(ground_truth_returns)"
   ]
  },
  {
   "cell_type": "code",
   "execution_count": 10,
   "metadata": {},
   "outputs": [],
   "source": [
    "# For each test input, infer which cluster it belongs to in both the set of 'return' and 'exception' clusters\n",
    "preds_from_return_clusters = return_inputs_clusters.predict(test_inputs)\n",
    "preds_from_exception_clusters = exception_inputs_clusters.predict(test_inputs)"
   ]
  },
  {
   "cell_type": "code",
   "execution_count": 11,
   "metadata": {},
   "outputs": [
    {
     "name": "stdout",
     "output_type": "stream",
     "text": [
      "[(266, 277), (154, 728), (203, 175), (130, 209), (167, 267), (81, 334), (117, 28), (224, 270), (142, 475), (36, 57), (99, 122), (191, 205), (112, 735), (120, 181), (153, 834), (86, 417), (245, 190), (32, 55), (34, 501), (133, 394), (115, 596), (72, 365), (52, 908), (60, 921), (94, 267), (117, 9), (219, 47), (227, 387), (106, 753), (77, 875), (41, 144), (152, 743), (119, 575), (24, 185), (21, 534), (80, 354), (19, 335), (241, 555), (230, 564), (241, 573), (35, 953), (178, 117), (88, 318), (154, 25), (24, 333), (8, 65), (1, 434), (40, 780), (0, 1000), (40, 807), (196, 893), (226, 27), (91, 876), (163, 761), (165, 941), (194, 330), (23, 210), (224, 438), (217, 426), (145, 586), (46, 329), (24, 152), (20, 447), (10, 662), (82, 776), (67, 882), (72, 969), (223, 473), (44, 102), (271, 168), (99, 312), (166, 640), (228, 462), (61, 959), (74, 916), (42, 973), (112, 543), (101, 613), (232, 50), (43, 775), (57, 301), (0, 432), (96, 140), (44, 856), (134, 530), (31, 419), (151, 344), (176, 276), (31, 940), (209, 318), (155, 347), (176, 379), (32, 932), (145, 153), (174, 189), (202, 40), (33, 604), (161, 533), (21, 239), (55, 362), (195, 540), (183, 404), (42, 163), (179, 397), (88, 553), (191, 227), (110, 958), (9, 116), (190, 932), (195, 382), (219, 595), (101, 710), (36, 92), (20, 651), (281, 115), (81, 773), (76, 676), (164, 142), (191, 761), (40, 601), (221, 524), (169, 495), (111, 899), (151, 41), (230, 182), (155, 444), (249, 460), (93, 477), (118, 888), (0, 780), (230, 568), (20, 120), (52, 826), (98, 39), (18, 922), (191, 612), (166, 942), (201, 936), (169, 49), (39, 348), (185, 420), (123, 319), (55, 175), (243, 473), (182, 881), (224, 258), (141, 629), (263, 97), (121, 13), (54, 862), (120, 160), (52, 681), (135, 935), (2, 671), (140, 623), (111, 870), (159, 538), (239, 210), (1, 832), (62, 299), (119, 842), (212, 652), (103, 80), (127, 953), (189, 101), (68, 894), (149, 74), (125, 867), (76, 983), (233, 558), (4, 186), (244, 432), (31, 59), (69, 580), (49, 876), (8, 597), (264, 266), (222, 776), (200, 138), (25, 622), (89, 795), (20, 939), (30, 983), (55, 676), (0, 435), (277, 87), (36, 137), (164, 960), (177, 512), (119, 162), (23, 45), (205, 31), (127, 111), (143, 375), (113, 469), (122, 846), (220, 213), (74, 653), (126, 434), (221, 290), (244, 26), (82, 858), (37, 734), (172, 522), (111, 786), (217, 139), (32, 260), (221, 559), (170, 584), (193, 963), (236, 412), (171, 441), (52, 84), (178, 309), (178, 974), (233, 16), (49, 307), (39, 918), (33, 466), (9, 347), (181, 440), (55, 224), (226, 475), (278, 9), (127, 859), (117, 824), (17, 90), (206, 505), (127, 468), (68, 400), (41, 294)]\n",
      "[(849, 979), (529, 242), (720, 438), (934, 318), (890, 468), (639, 230), (604, 272), (819, 435), (462, 435), (500, 71), (627, 112), (778, 573), (621, 617), (541, 81), (448, 280), (475, 899), (543, 954), (442, 713), (977, 639), (450, 79), (404, 210), (885, 7), (799, 205), (922, 712), (864, 213), (568, 974), (788, 739), (963, 164), (389, 325), (984, 534), (528, 919), (911, 648), (250, 902), (946, 269), (586, 353), (451, 583), (612, 509), (923, 231), (551, 121), (940, 311), (326, 250), (734, 880), (921, 41), (942, 262), (512, 687), (733, 646), (351, 590), (987, 422), (777, 460), (315, 258), (984, 920), (427, 966), (714, 13), (510, 601), (652, 703), (285, 891), (729, 648), (379, 944), (559, 484), (811, 192), (949, 4), (507, 464), (874, 904), (538, 290), (527, 24), (395, 479), (633, 945), (781, 313), (950, 234), (454, 812), (237, 972), (471, 910), (480, 321), (472, 228), (394, 290), (461, 51), (366, 884), (921, 63), (700, 720), (595, 954), (429, 513), (993, 982), (998, 441), (728, 153), (920, 503), (307, 258), (828, 994), (503, 718), (630, 112), (492, 169), (899, 407), (865, 927), (694, 523), (602, 724), (907, 905), (864, 544), (675, 946), (537, 841), (944, 698), (451, 2), (524, 651), (461, 46), (722, 78), (809, 244), (508, 554), (553, 40), (944, 298), (661, 229), (894, 846), (908, 97), (985, 982), (286, 944), (326, 361), (541, 160), (250, 869), (476, 49), (300, 241), (644, 14), (692, 91), (542, 659), (543, 624), (885, 742), (318, 515), (303, 624), (940, 31), (633, 270), (945, 536), (404, 307), (333, 921), (923, 863), (993, 195), (867, 446), (368, 143), (325, 172), (689, 943), (719, 291), (594, 40), (629, 672), (750, 791), (669, 201), (539, 864), (666, 968), (442, 693), (580, 645), (909, 326), (288, 882), (919, 358), (589, 492), (763, 101), (740, 117), (621, 26), (289, 608), (623, 197), (727, 700), (389, 543), (375, 797), (378, 793), (845, 417), (233, 942), (786, 340), (373, 836), (412, 526), (757, 313), (976, 775), (595, 638), (517, 975), (850, 370), (295, 633), (973, 41), (284, 642), (360, 344), (816, 395), (292, 237), (374, 297), (610, 16), (924, 593), (676, 110), (589, 716), (250, 594), (291, 146), (537, 943), (347, 285), (812, 217), (624, 822), (315, 979), (639, 582), (511, 387), (376, 617), (255, 983), (967, 685), (510, 199), (986, 546), (293, 820), (614, 903), (436, 649), (333, 475), (249, 652), (525, 834), (917, 693), (668, 236), (383, 94), (365, 863), (689, 277), (626, 248), (323, 866), (772, 967), (416, 109), (416, 774), (516, 623), (803, 289), (490, 67), (470, 903), (974, 0), (804, 928), (897, 162), (970, 951), (447, 618), (849, 423), (351, 403), (905, 849), (817, 965), (427, 294), (731, 642), (467, 196), (479, 597), (349, 240), (941, 353), (376, 432), (830, 513), (661, 326), (497, 322), (758, 515), (555, 601), (292, 209), (898, 940), (992, 291), (990, 120), (623, 79), (866, 313), (494, 194), (944, 260), (997, 653), (222, 894), (498, 322), (260, 759), (684, 449), (640, 235), (209, 979), (790, 188), (484, 518), (761, 152), (537, 533), (983, 601), (879, 800), (457, 662), (500, 642), (567, 543), (675, 741), (367, 634), (901, 586), (811, 921), (866, 299), (923, 452), (726, 572), (927, 989), (977, 819), (351, 802), (565, 963), (971, 995), (536, 182), (992, 560), (584, 833), (845, 788), (980, 842), (738, 900), (478, 604), (667, 202), (523, 993), (540, 408), (942, 150), (836, 806), (845, 873), (587, 358), (421, 344), (806, 155), (980, 707), (763, 611), (608, 399), (492, 871), (266, 708), (825, 177), (670, 392), (954, 398), (257, 470), (536, 568), (880, 378), (298, 776), (834, 82), (260, 484), (596, 61), (396, 274), (699, 949), (642, 415), (799, 798), (441, 663), (988, 167), (624, 528), (650, 666), (247, 587), (749, 797), (535, 307), (490, 555), (815, 86), (786, 715), (213, 930), (901, 958), (722, 160), (745, 36), (244, 935), (926, 960), (662, 514), (826, 882), (621, 760), (849, 767), (256, 738), (733, 821), (590, 534), (445, 125), (778, 325), (882, 791), (265, 832), (991, 707), (365, 910), (498, 945), (513, 525), (769, 878), (849, 870), (717, 422), (665, 658), (915, 34), (517, 918), (958, 413), (556, 617), (948, 238), (771, 416), (660, 427), (968, 314), (665, 941), (295, 185), (887, 865), (553, 193), (847, 689), (805, 27), (705, 187), (354, 905), (434, 129), (502, 7), (913, 383), (445, 138), (639, 507), (222, 874), (634, 172), (282, 498), (963, 747), (485, 705), (813, 799), (699, 548), (616, 788), (481, 563), (261, 569), (857, 603), (857, 841), (571, 911), (790, 662), (431, 95), (280, 448), (859, 402), (290, 632), (336, 599), (437, 651), (521, 919), (337, 582), (579, 106), (499, 989), (336, 208), (978, 578), (437, 22), (354, 244), (828, 899), (644, 333), (349, 156), (917, 348), (279, 833), (394, 972), (571, 861), (356, 936), (397, 834), (580, 34), (502, 96), (718, 413), (431, 481), (655, 613), (546, 944), (894, 486), (581, 26), (717, 951), (253, 807), (680, 395), (464, 124), (757, 340), (644, 719), (443, 815), (903, 552), (856, 239), (279, 316), (944, 688), (373, 243), (410, 152), (423, 598), (642, 633), (366, 231), (829, 886), (692, 481), (803, 330), (648, 316), (242, 946), (594, 583), (679, 142), (775, 277), (706, 919), (646, 877), (401, 54), (487, 484), (234, 969), (915, 931), (586, 337), (793, 29), (790, 679), (826, 700), (807, 421), (599, 154), (395, 522), (320, 757), (761, 481), (261, 918), (342, 525), (901, 650), (874, 358), (255, 466), (344, 705), (758, 183), (987, 6), (354, 746), (365, 90), (482, 675), (909, 352), (879, 967), (719, 600), (779, 889), (864, 439), (419, 317), (685, 55), (530, 697), (965, 527), (475, 105), (753, 607), (744, 122), (325, 157), (261, 392), (913, 327), (994, 926), (677, 981), (651, 187), (565, 245), (825, 888), (563, 74), (941, 672), (856, 67), (391, 394), (523, 940), (703, 480), (772, 598), (553, 959), (529, 849), (435, 656), (419, 312), (298, 22), (452, 507), (677, 464), (883, 294), (345, 628), (798, 354), (812, 917), (268, 426), (341, 258), (534, 573), (384, 467), (432, 516), (387, 145), (251, 877), (325, 826), (855, 488), (635, 732), (759, 273), (486, 87), (719, 60), (412, 803), (426, 747), (605, 462), (312, 972), (451, 651), (672, 241), (702, 669), (533, 949), (797, 650), (466, 392), (888, 539), (302, 936), (475, 715), (359, 531), (369, 50), (900, 104), (898, 827), (336, 538), (654, 448), (273, 500), (591, 181), (744, 750), (498, 856), (778, 672), (928, 678), (446, 446), (785, 150), (615, 465), (799, 951), (825, 860), (471, 210), (756, 599), (319, 323), (538, 120), (290, 683), (493, 234), (572, 536), (803, 966), (642, 213), (611, 863), (436, 355), (311, 998), (337, 669), (349, 634), (493, 517), (671, 267), (413, 408), (853, 643), (668, 616), (709, 159), (434, 467), (651, 136), (852, 553), (289, 866), (893, 87), (260, 421), (522, 427), (499, 285), (774, 471), (611, 117), (360, 773), (619, 597), (943, 438), (875, 285), (314, 486), (976, 206), (807, 675), (553, 252), (453, 183), (513, 988), (420, 244), (762, 133), (764, 161), (805, 598), (453, 30), (361, 859), (729, 459), (380, 64), (897, 34), (799, 694), (315, 999), (638, 359), (786, 346), (777, 801), (654, 950), (696, 300), (835, 217), (627, 39), (791, 708), (817, 846), (654, 303), (809, 604), (833, 543), (630, 858), (336, 649), (529, 964), (975, 227), (352, 764), (923, 464), (651, 14), (281, 313), (737, 840), (278, 564), (826, 122), (364, 338), (754, 920), (828, 729), (308, 681), (567, 932), (549, 896), (995, 70), (683, 469), (410, 710), (481, 999), (702, 766), (865, 891), (323, 998), (902, 382), (810, 555), (410, 328), (319, 308), (880, 363), (477, 656), (959, 516), (763, 214), (800, 779), (902, 647), (374, 918), (824, 53), (992, 711), (721, 882), (731, 118), (447, 359), (642, 189), (540, 797), (793, 587), (751, 114), (778, 369), (343, 661), (760, 55), (396, 416), (731, 257), (918, 74), (816, 355), (729, 296), (830, 110), (358, 807), (299, 492), (967, 762), (244, 794), (583, 507), (352, 992), (848, 689), (367, 901), (762, 91), (343, 791), (873, 453), (479, 535), (373, 953), (316, 657), (775, 39), (818, 257), (930, 587), (764, 146), (874, 920), (628, 379), (448, 421), (521, 680), (937, 82), (604, 687), (564, 233), (477, 237), (907, 50), (282, 654), (540, 284), (748, 826), (784, 910), (644, 988), (616, 252), (612, 300), (258, 553), (329, 604), (863, 129), (751, 324), (292, 713), (905, 153), (701, 85), (413, 841), (721, 63), (950, 551), (928, 374), (531, 842), (375, 576), (467, 421), (368, 964), (352, 443), (756, 969), (265, 304), (830, 738), (565, 843), (983, 840), (554, 425), (801, 64), (902, 632), (333, 960), (906, 742), (689, 506), (625, 76), (967, 343), (351, 776), (848, 261), (407, 271), (763, 940), (840, 257), (916, 804), (522, 496), (819, 472), (807, 479), (821, 652), (583, 106), (471, 530), (715, 881), (712, 754), (835, 336), (745, 671), (597, 117), (615, 165), (830, 904), (990, 466), (222, 975), (907, 431), (646, 674), (982, 489), (607, 157), (849, 337), (978, 756), (926, 813), (338, 423), (443, 189), (301, 105), (279, 355), (889, 37), (890, 756), (901, 240), (674, 210), (572, 339), (526, 232), (349, 172), (854, 415), (864, 874), (481, 965), (321, 357), (316, 13), (998, 694), (531, 414), (872, 478), (263, 770), (851, 931), (639, 383), (698, 707)]\n"
     ]
    }
   ],
   "source": [
    "from scipy.spatial import distance\n",
    "\n",
    "test_inputs_inferred_as_returning = []\n",
    "test_inputs_inferred_as_throwing_exceptions = []\n",
    "\n",
    "for m in range(len(test_inputs)):\n",
    "    test_input = test_inputs[m]\n",
    "\n",
    "    # Get the respective predictions\n",
    "    return_cluster_prediction = preds_from_return_clusters[m]\n",
    "    exception_cluster_prediction = preds_from_exception_clusters[m]\n",
    "\n",
    "    # Get the centroid of the cluster that each prediction belongs to\n",
    "    return_cluster_centroid = centroids_of_return_clusters[return_cluster_prediction]\n",
    "    exception_cluster_centroid = centroids_of_exception_clusters[exception_cluster_prediction]\n",
    "\n",
    "    # Get the distance of the test_input from the predicted return and exception cluster\n",
    "    distance_to_return_cluster_centroid = distance.euclidean(return_cluster_centroid, test_input)\n",
    "    distance_to_exception_cluster_centroid = distance.euclidean(exception_cluster_centroid, test_input)\n",
    "    \n",
    "    # Choose the min and add to return or exception - inducing list\n",
    "    if distance_to_return_cluster_centroid < distance_to_exception_cluster_centroid:\n",
    "        test_inputs_inferred_as_returning.append(test_input)\n",
    "    else:\n",
    "        test_inputs_inferred_as_throwing_exceptions.append(test_input)\n",
    "    \n",
    "print(test_inputs_inferred_as_returning)\n",
    "print(test_inputs_inferred_as_throwing_exceptions)"
   ]
  },
  {
   "cell_type": "code",
   "execution_count": 12,
   "metadata": {},
   "outputs": [
    {
     "name": "stdout",
     "output_type": "stream",
     "text": [
      "231\n",
      "766\n"
     ]
    }
   ],
   "source": [
    "print(len(test_inputs_inferred_as_returning))\n",
    "print(len(test_inputs_inferred_as_throwing_exceptions))"
   ]
  },
  {
   "cell_type": "markdown",
   "metadata": {},
   "source": [
    "### Accuracy Assessment for the Return / Exception Predictions"
   ]
  },
  {
   "cell_type": "code",
   "execution_count": 13,
   "metadata": {},
   "outputs": [
    {
     "name": "stdout",
     "output_type": "stream",
     "text": [
      "3.0303030303030303\n"
     ]
    }
   ],
   "source": [
    "test_inputs_inferred_as_returning = set(test_inputs_inferred_as_returning)\n",
    "ground_truth_returns = set(ground_truth_returns)\n",
    "\n",
    "intersection_return_inferences_and_return_ground_truths = test_inputs_inferred_as_returning.intersection(ground_truth_returns)\n",
    "accuracy_return_inference = (len(intersection_return_inferences_and_return_ground_truths) / len(test_inputs_inferred_as_returning)) * 100\n",
    "print(accuracy_return_inference)"
   ]
  },
  {
   "cell_type": "code",
   "execution_count": 14,
   "metadata": {},
   "outputs": [
    {
     "name": "stdout",
     "output_type": "stream",
     "text": [
      "100.0\n"
     ]
    }
   ],
   "source": [
    "test_inputs_inferred_as_throwing_exceptions = set(test_inputs_inferred_as_throwing_exceptions)\n",
    "ground_truth_exceptions = set(ground_truth_exceptions)\n",
    "\n",
    "intersection_exception_inferences_and_exception_ground_truths = test_inputs_inferred_as_throwing_exceptions.intersection(ground_truth_exceptions)\n",
    "accuracy_exception_inference = (len(intersection_exception_inferences_and_exception_ground_truths) / len(test_inputs_inferred_as_throwing_exceptions)) * 100\n",
    "print(accuracy_exception_inference)"
   ]
  },
  {
   "cell_type": "code",
   "execution_count": null,
   "metadata": {},
   "outputs": [],
   "source": []
  }
 ],
 "metadata": {
  "kernelspec": {
   "display_name": "Python 3",
   "language": "python",
   "name": "python3"
  },
  "language_info": {
   "codemirror_mode": {
    "name": "ipython",
    "version": 3
   },
   "file_extension": ".py",
   "mimetype": "text/x-python",
   "name": "python",
   "nbconvert_exporter": "python",
   "pygments_lexer": "ipython3",
   "version": "3.8.10"
  }
 },
 "nbformat": 4,
 "nbformat_minor": 2
}
